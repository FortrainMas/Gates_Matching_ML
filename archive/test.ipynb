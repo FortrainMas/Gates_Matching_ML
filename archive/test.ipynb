{
 "cells": [
  {
   "cell_type": "code",
   "execution_count": 4,
   "metadata": {},
   "outputs": [],
   "source": [
    "from random import randrange\n",
    "randrange(8) + 1\n",
    "\n",
    "a = [randrange(8) + 1 for x in range(100)]"
   ]
  },
  {
   "cell_type": "code",
   "execution_count": 6,
   "metadata": {},
   "outputs": [
    {
     "name": "stdout",
     "output_type": "stream",
     "text": [
      "0.3158258343555665\n"
     ]
    }
   ],
   "source": [
    "A = 0\n",
    "W = 0\n",
    "for i in range(1000000):\n",
    "    x = randrange(8) + 1\n",
    "    y = randrange(8) + 1\n",
    "    z = randrange(8) + 1\n",
    "\n",
    "    if x + y + z < 21:\n",
    "        W += 1\n",
    "        if x == 7 or y == 7 or z == 7:\n",
    "            A+=1\n",
    "\n",
    "\n",
    "print(A/W)"
   ]
  }
 ],
 "metadata": {
  "kernelspec": {
   "display_name": "base",
   "language": "python",
   "name": "python3"
  },
  "language_info": {
   "codemirror_mode": {
    "name": "ipython",
    "version": 3
   },
   "file_extension": ".py",
   "mimetype": "text/x-python",
   "name": "python",
   "nbconvert_exporter": "python",
   "pygments_lexer": "ipython3",
   "version": "3.12.4"
  }
 },
 "nbformat": 4,
 "nbformat_minor": 2
}
