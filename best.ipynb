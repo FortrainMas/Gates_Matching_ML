{
 "cells": [
  {
   "cell_type": "markdown",
   "id": "eff0fc81",
   "metadata": {},
   "source": [
    "### Как запускать это дело?\n",
    "\n",
    "Проще всего свернуть все блоки и попорядку запустить все из них, кроме нейросетевой попытки"
   ]
  },
  {
   "cell_type": "markdown",
   "id": "4d2692ed",
   "metadata": {},
   "source": [
    "#### Загружаем данные в all_data"
   ]
  },
  {
   "cell_type": "code",
   "execution_count": 60,
   "id": "9075248b",
   "metadata": {},
   "outputs": [],
   "source": [
    "import pandas as pd\n",
    "import sklearn\n",
    "from sklearn.linear_model import LogisticRegression\n",
    "from sklearn.preprocessing import StandardScaler\n",
    "import matplotlib.pyplot as plt"
   ]
  },
  {
   "cell_type": "code",
   "execution_count": 61,
   "id": "7b8cb16f",
   "metadata": {},
   "outputs": [
    {
     "name": "stdout",
     "output_type": "stream",
     "text": [
      "(37518, 3)\n"
     ]
    },
    {
     "data": {
      "text/html": [
       "<div>\n",
       "<style scoped>\n",
       "    .dataframe tbody tr th:only-of-type {\n",
       "        vertical-align: middle;\n",
       "    }\n",
       "\n",
       "    .dataframe tbody tr th {\n",
       "        vertical-align: top;\n",
       "    }\n",
       "\n",
       "    .dataframe thead th {\n",
       "        text-align: right;\n",
       "    }\n",
       "</style>\n",
       "<table border=\"1\" class=\"dataframe\">\n",
       "  <thead>\n",
       "    <tr style=\"text-align: right;\">\n",
       "      <th></th>\n",
       "      <th>user_id</th>\n",
       "      <th>ts</th>\n",
       "      <th>gate_id</th>\n",
       "    </tr>\n",
       "  </thead>\n",
       "  <tbody>\n",
       "    <tr>\n",
       "      <th>0</th>\n",
       "      <td>18</td>\n",
       "      <td>2022-07-29 09:08:54</td>\n",
       "      <td>7</td>\n",
       "    </tr>\n",
       "    <tr>\n",
       "      <th>1</th>\n",
       "      <td>18</td>\n",
       "      <td>2022-07-29 09:09:54</td>\n",
       "      <td>9</td>\n",
       "    </tr>\n",
       "    <tr>\n",
       "      <th>2</th>\n",
       "      <td>18</td>\n",
       "      <td>2022-07-29 09:09:54</td>\n",
       "      <td>9</td>\n",
       "    </tr>\n",
       "    <tr>\n",
       "      <th>3</th>\n",
       "      <td>18</td>\n",
       "      <td>2022-07-29 09:10:06</td>\n",
       "      <td>5</td>\n",
       "    </tr>\n",
       "    <tr>\n",
       "      <th>4</th>\n",
       "      <td>18</td>\n",
       "      <td>2022-07-29 09:10:08</td>\n",
       "      <td>5</td>\n",
       "    </tr>\n",
       "  </tbody>\n",
       "</table>\n",
       "</div>"
      ],
      "text/plain": [
       "   user_id                   ts  gate_id\n",
       "0       18  2022-07-29 09:08:54        7\n",
       "1       18  2022-07-29 09:09:54        9\n",
       "2       18  2022-07-29 09:09:54        9\n",
       "3       18  2022-07-29 09:10:06        5\n",
       "4       18  2022-07-29 09:10:08        5"
      ]
     },
     "execution_count": 61,
     "metadata": {},
     "output_type": "execute_result"
    }
   ],
   "source": [
    "train = pd.read_csv('data/train.csv', index_col=0)\n",
    "print(train.shape)\n",
    "train.head()"
   ]
  },
  {
   "cell_type": "code",
   "execution_count": 62,
   "id": "f6ccb043",
   "metadata": {},
   "outputs": [
    {
     "name": "stdout",
     "output_type": "stream",
     "text": [
      "(7125, 3)\n"
     ]
    },
    {
     "data": {
      "text/html": [
       "<div>\n",
       "<style scoped>\n",
       "    .dataframe tbody tr th:only-of-type {\n",
       "        vertical-align: middle;\n",
       "    }\n",
       "\n",
       "    .dataframe tbody tr th {\n",
       "        vertical-align: top;\n",
       "    }\n",
       "\n",
       "    .dataframe thead th {\n",
       "        text-align: right;\n",
       "    }\n",
       "</style>\n",
       "<table border=\"1\" class=\"dataframe\">\n",
       "  <thead>\n",
       "    <tr style=\"text-align: right;\">\n",
       "      <th></th>\n",
       "      <th>ts</th>\n",
       "      <th>gate_id</th>\n",
       "      <th>user_word</th>\n",
       "    </tr>\n",
       "  </thead>\n",
       "  <tbody>\n",
       "    <tr>\n",
       "      <th>37518</th>\n",
       "      <td>2023-01-03 08:21:00</td>\n",
       "      <td>9</td>\n",
       "      <td>gini</td>\n",
       "    </tr>\n",
       "    <tr>\n",
       "      <th>37519</th>\n",
       "      <td>2023-01-03 08:21:00</td>\n",
       "      <td>9</td>\n",
       "      <td>gini</td>\n",
       "    </tr>\n",
       "    <tr>\n",
       "      <th>37520</th>\n",
       "      <td>2023-01-03 08:21:18</td>\n",
       "      <td>5</td>\n",
       "      <td>gini</td>\n",
       "    </tr>\n",
       "    <tr>\n",
       "      <th>37521</th>\n",
       "      <td>2023-01-03 08:21:19</td>\n",
       "      <td>5</td>\n",
       "      <td>gini</td>\n",
       "    </tr>\n",
       "    <tr>\n",
       "      <th>37522</th>\n",
       "      <td>2023-01-03 08:21:39</td>\n",
       "      <td>10</td>\n",
       "      <td>gini</td>\n",
       "    </tr>\n",
       "  </tbody>\n",
       "</table>\n",
       "</div>"
      ],
      "text/plain": [
       "                        ts  gate_id user_word\n",
       "37518  2023-01-03 08:21:00        9      gini\n",
       "37519  2023-01-03 08:21:00        9      gini\n",
       "37520  2023-01-03 08:21:18        5      gini\n",
       "37521  2023-01-03 08:21:19        5      gini\n",
       "37522  2023-01-03 08:21:39       10      gini"
      ]
     },
     "execution_count": 62,
     "metadata": {},
     "output_type": "execute_result"
    }
   ],
   "source": [
    "test = pd.read_csv('data/test.csv', index_col=0)\n",
    "print(test.shape)\n",
    "test.head()"
   ]
  },
  {
   "cell_type": "code",
   "execution_count": 63,
   "id": "8e32de22",
   "metadata": {},
   "outputs": [
    {
     "data": {
      "text/plain": [
       "0.1595994892816343"
      ]
     },
     "execution_count": 63,
     "metadata": {},
     "output_type": "execute_result"
    }
   ],
   "source": [
    "all_data = pd.concat([train, test], axis=0)\n",
    "all_data['ts'] = pd.to_datetime(all_data['ts'])\n",
    "\n",
    "# Доля тест во всей выборке\n",
    "sum(all_data['user_word'].notnull()) / all_data['user_word'].shape[0] "
   ]
  },
  {
   "cell_type": "markdown",
   "id": "d58c1541",
   "metadata": {},
   "source": [
    "### Графички"
   ]
  },
  {
   "cell_type": "code",
   "execution_count": 64,
   "id": "5338de01",
   "metadata": {},
   "outputs": [
    {
     "data": {
      "image/png": "[encoded data removed]",
      "text/plain": [
       "<Figure size 640x480 with 1 Axes>"
      ]
     },
     "metadata": {},
     "output_type": "display_data"
    }
   ],
   "source": [
    "import seaborn as sns\n",
    "\n",
    "plt.figure()\n",
    "plt.xticks(rotation='vertical')\n",
    "all_data['ts'].hist(bins=50)\n",
    "train['ts'].hist(bins=50)\n",
    "plt.show()\n"
   ]
  },
  {
   "cell_type": "code",
   "execution_count": 65,
   "id": "12fcfa07",
   "metadata": {},
   "outputs": [
    {
     "data": {
      "text/plain": [
       "<Axes: >"
      ]
     },
     "execution_count": 65,
     "metadata": {},
     "output_type": "execute_result"
    },
    {
     "data": {
      "image/png": "[encoded data removed]",
      "text/plain": [
       "<Figure size 640x480 with 1 Axes>"
      ]
     },
     "metadata": {},
     "output_type": "display_data"
    }
   ],
   "source": [
    "all_data[\"gate_id\"].hist()"
   ]
  },
  {
   "cell_type": "markdown",
   "id": "2566aeff",
   "metadata": {},
   "source": [
    "### Генерируем новые фичи"
   ]
  },
  {
   "cell_type": "code",
   "execution_count": 66,
   "id": "4d910ac0",
   "metadata": {},
   "outputs": [
    {
     "name": "stdout",
     "output_type": "stream",
     "text": [
      "Only train gates:  0 16\n",
      "Only test gates:  2\n"
     ]
    }
   ],
   "source": [
    "train_gate_list = sorted(list(train['gate_id'].unique()))\n",
    "test_gate_list = sorted(list(test['gate_id'].unique()))\n",
    "\n",
    "only_train = [gate for gate in train_gate_list if gate not in test_gate_list]\n",
    "only_test = [gate for gate in test_gate_list if gate not in train_gate_list]\n",
    "\n",
    "print(\"Only train gates: \", \" \".join(map(str, only_train)))\n",
    "print(\"Only test gates: \", \" \".join(map(str, only_test)))"
   ]
  },
  {
   "cell_type": "code",
   "execution_count": 67,
   "id": "97146f5a",
   "metadata": {},
   "outputs": [
    {
     "data": {
      "text/html": [
       "<div>\n",
       "<style scoped>\n",
       "    .dataframe tbody tr th:only-of-type {\n",
       "        vertical-align: middle;\n",
       "    }\n",
       "\n",
       "    .dataframe tbody tr th {\n",
       "        vertical-align: top;\n",
       "    }\n",
       "\n",
       "    .dataframe thead th {\n",
       "        text-align: right;\n",
       "    }\n",
       "</style>\n",
       "<table border=\"1\" class=\"dataframe\">\n",
       "  <thead>\n",
       "    <tr style=\"text-align: right;\">\n",
       "      <th></th>\n",
       "      <th>user_id</th>\n",
       "      <th>ts</th>\n",
       "      <th>gate_id</th>\n",
       "      <th>user_word</th>\n",
       "      <th>gate_-1</th>\n",
       "      <th>gate_0</th>\n",
       "      <th>gate_1</th>\n",
       "      <th>gate_2</th>\n",
       "      <th>gate_3</th>\n",
       "      <th>gate_4</th>\n",
       "      <th>...</th>\n",
       "      <th>gate_7</th>\n",
       "      <th>gate_8</th>\n",
       "      <th>gate_9</th>\n",
       "      <th>gate_10</th>\n",
       "      <th>gate_11</th>\n",
       "      <th>gate_12</th>\n",
       "      <th>gate_13</th>\n",
       "      <th>gate_14</th>\n",
       "      <th>gate_15</th>\n",
       "      <th>gate_16</th>\n",
       "    </tr>\n",
       "  </thead>\n",
       "  <tbody>\n",
       "    <tr>\n",
       "      <th>0</th>\n",
       "      <td>18.0</td>\n",
       "      <td>2022-07-29 09:08:54</td>\n",
       "      <td>7</td>\n",
       "      <td>NaN</td>\n",
       "      <td>False</td>\n",
       "      <td>False</td>\n",
       "      <td>False</td>\n",
       "      <td>False</td>\n",
       "      <td>False</td>\n",
       "      <td>False</td>\n",
       "      <td>...</td>\n",
       "      <td>True</td>\n",
       "      <td>False</td>\n",
       "      <td>False</td>\n",
       "      <td>False</td>\n",
       "      <td>False</td>\n",
       "      <td>False</td>\n",
       "      <td>False</td>\n",
       "      <td>False</td>\n",
       "      <td>False</td>\n",
       "      <td>False</td>\n",
       "    </tr>\n",
       "  </tbody>\n",
       "</table>\n",
       "<p>1 rows × 22 columns</p>\n",
       "</div>"
      ],
      "text/plain": [
       "   user_id                  ts  gate_id user_word  gate_-1  gate_0  gate_1  \\\n",
       "0     18.0 2022-07-29 09:08:54        7       NaN    False   False   False   \n",
       "\n",
       "   gate_2  gate_3  gate_4  ...  gate_7  gate_8  gate_9  gate_10  gate_11  \\\n",
       "0   False   False   False  ...    True   False   False    False    False   \n",
       "\n",
       "   gate_12  gate_13  gate_14  gate_15  gate_16  \n",
       "0    False    False    False    False    False  \n",
       "\n",
       "[1 rows x 22 columns]"
      ]
     },
     "execution_count": 67,
     "metadata": {},
     "output_type": "execute_result"
    }
   ],
   "source": [
    "#1st transformation\n",
    "#Adding dummies for gates\n",
    "\n",
    "gates = pd.get_dummies(all_data['gate_id'])\n",
    "gates.columns = [\"gate_\" + str(col) for col in gates.columns]\n",
    "all_data = pd.concat([all_data, gates], axis=1)\n",
    "\n",
    "all_data.head(1)"
   ]
  },
  {
   "cell_type": "code",
   "execution_count": 68,
   "id": "818d1286",
   "metadata": {},
   "outputs": [],
   "source": [
    "#2nd transformation\n",
    "#Adding dummies for days of week\n",
    "\n",
    "\n",
    "days_of_week = [\"Monday\",\"Tuesday\",\"Wednesday\",\"Thursday\",\"Friday\",\"Saturday\",\"Sunday\"]\n",
    "all_data[days_of_week] = pd.get_dummies(all_data['ts'].dt.day_name())[days_of_week]"
   ]
  },
  {
   "cell_type": "code",
   "execution_count": 69,
   "id": "2017a0d4",
   "metadata": {},
   "outputs": [],
   "source": [
    "#3rd transformation\n",
    "#Time\n",
    "\n",
    "all_data['hour'] = all_data['ts'].dt.hour\n",
    "all_data['minute'] = all_data['ts'].dt.minute\n",
    "all_data['day'] = all_data['ts'].dt.day\n",
    "all_data['month'] = all_data['ts'].dt.month\n",
    "\n",
    "\n",
    "hours = pd.get_dummies(all_data['ts'].dt.hour)\n",
    "hours.columns = [\"h_\" + str(col) for col in hours.columns]\n",
    "all_data[hours.columns] = hours[hours.columns]"
   ]
  },
  {
   "cell_type": "code",
   "execution_count": 70,
   "id": "ef794e43",
   "metadata": {},
   "outputs": [],
   "source": [
    "# 4th transformation\n",
    "# Working and not working days\n",
    "\n",
    "all_data[\"date\"] = all_data[\"ts\"].dt.date\n",
    "count = all_data.groupby(\"date\").size().reset_index(name='count')\n",
    "result = pd.merge(all_data, count, on='date', how='left')\n",
    "\n",
    "result[\"is_weekend\"] = result[\"count\"] < 100\n",
    "result.drop([\"count\", \"date\"], axis=1, inplace=True)\n",
    "\n",
    "all_data = result\n"
   ]
  },
  {
   "cell_type": "code",
   "execution_count": 71,
   "id": "b6208785",
   "metadata": {},
   "outputs": [],
   "source": [
    "# 5th transformation\n",
    "# Gate n-grams\n",
    "\n",
    "\n",
    "all_data[\"gate_half\"] = all_data[\"gate_id\"] <= 8\n",
    "\n",
    "for i in range(-1, 12):\n",
    "    all_data[\"triplet_\" + str(i+1)] = (all_data[\"gate_id\"] >= i) & (all_data[\"gate_id\"] <= i+2)\n",
    " "
   ]
  },
  {
   "cell_type": "code",
   "execution_count": 72,
   "id": "1d254340",
   "metadata": {},
   "outputs": [],
   "source": [
    "# 6th transformation\n",
    "# Estimate working, departure and arrival time\n",
    "\n",
    "\n",
    "# Estimate working, departure and arrival time for train and val\n",
    "stats_train = all_data[all_data.notnull()[\"user_id\"] == True] \\\n",
    "    .groupby([\"user_id\", \"month\", \"day\"]).agg([\"min\", \"max\"])[\"ts\"]\n",
    "stats_train[\"diff\"] = stats_train[\"max\"] - stats_train[\"min\"]\n",
    "stats_train.rename({\"diff\": \"diff_train\", \"min\": \"min_train\", \"max\": \"max_train\"}, axis=1, inplace=True)\n",
    "all_data = pd.merge(all_data, stats_train.reset_index(), how=\"left\", on=[\"user_id\", \"month\", \"day\"])\n",
    "\n",
    "\n",
    "# Estimate working, departure and arrival time for test\n",
    "stats_test = all_data[all_data.notnull()[\"user_id\"] == False] \\\n",
    "    .groupby([\"user_word\", \"month\", \"day\"]).agg([\"min\", \"max\"])[\"ts\"]\n",
    "stats_test[\"diff\"] = stats_test[\"max\"] - stats_test[\"min\"]\n",
    "stats_test.rename({\"diff\": \"diff_test\", \"min\": \"min_test\", \"max\": \"max_test\"}, axis=1, inplace=True)\n",
    "all_data = pd.merge(all_data, stats_test.reset_index(), how=\"left\", on=[\"user_word\", \"month\", \"day\"])\n",
    "\n",
    "\n",
    "# Set unified column name\n",
    "all_data[\"diff\"] = all_data[\"diff_train\"].fillna(all_data[\"diff_test\"])\n",
    "all_data[\"min\"] = all_data[\"min_train\"].fillna(all_data[\"min_test\"])\n",
    "all_data[\"max\"] = all_data[\"max_train\"].fillna(all_data[\"max_test\"])\n",
    "\n",
    "# Drop auxiliary columns\n",
    "all_data.drop([\"min_train\", \"max_train\", \"diff_train\"], axis=1, inplace=True)\n",
    "all_data.drop([\"min_test\", \"max_test\", \"diff_test\"], axis=1, inplace=True)\n",
    "\n",
    "\n"
   ]
  },
  {
   "cell_type": "code",
   "execution_count": 73,
   "id": "c97ef96a",
   "metadata": {},
   "outputs": [],
   "source": [
    "# 7th transformation\n",
    "# Transform times from 6th point\n",
    "all_data[\"diff_hour\"] = all_data[\"diff\"].dt.seconds // 3600\n",
    "all_data[\"diff_min\"] = all_data[\"diff\"].dt.seconds % 3600 // 60\n",
    "\n",
    "all_data[\"arrival_time\"] = all_data[\"min\"].dt.time\n",
    "all_data[\"arrival_hour\"] = all_data[\"min\"].dt.hour\n",
    "all_data[\"arrival_min\"] = all_data[\"min\"].dt.minute\n",
    "\n",
    "all_data[\"departure_time\"] = all_data[\"max\"].dt.time\n",
    "all_data[\"departure_hour\"] = all_data[\"max\"].dt.hour\n",
    "all_data[\"departure_min\"] = all_data[\"max\"].dt.minute\n",
    "\n",
    "all_data.drop([\"diff\", \"min\", \"max\"], axis=1, inplace=True)"
   ]
  },
  {
   "cell_type": "code",
   "execution_count": 74,
   "id": "ef85c05c",
   "metadata": {},
   "outputs": [
    {
     "data": {
      "image/png": "[encoded data removed]",
      "text/plain": [
       "<Figure size 1200x600 with 1 Axes>"
      ]
     },
     "metadata": {},
     "output_type": "display_data"
    }
   ],
   "source": [
    "# logistic как будто какой-то рандомный тип, который пришел, только один раз\n",
    "# Ему нужно попробовать поставить -999\n",
    "# Ничего не изменилось\n",
    "# В конце к нему вернемся. Но Logistic не 9 и не -999\n",
    "\n",
    "\n",
    "plt.figure(figsize=(12, 6))\n",
    "sns.countplot(data=all_data[all_data[\"user_word\"] == \"logistic\"], x='arrival_time')\n",
    "\n",
    "plt.xticks(rotation=45)  \n",
    "plt.title('Count of User Arrivals by Time')\n",
    "plt.xlabel('Arrival Time')\n",
    "plt.ylabel('Count')\n",
    "plt.grid(axis='y')\n",
    "plt.show()"
   ]
  },
  {
   "cell_type": "code",
   "execution_count": 75,
   "id": "4d2ab11a",
   "metadata": {},
   "outputs": [
    {
     "data": {
      "text/html": [
       "<div>\n",
       "<style scoped>\n",
       "    .dataframe tbody tr th:only-of-type {\n",
       "        vertical-align: middle;\n",
       "    }\n",
       "\n",
       "    .dataframe tbody tr th {\n",
       "        vertical-align: top;\n",
       "    }\n",
       "\n",
       "    .dataframe thead th {\n",
       "        text-align: right;\n",
       "    }\n",
       "</style>\n",
       "<table border=\"1\" class=\"dataframe\">\n",
       "  <thead>\n",
       "    <tr style=\"text-align: right;\">\n",
       "      <th></th>\n",
       "      <th>user_id</th>\n",
       "      <th>ts</th>\n",
       "      <th>gate_id</th>\n",
       "      <th>user_word</th>\n",
       "      <th>gate_-1</th>\n",
       "      <th>gate_0</th>\n",
       "      <th>gate_1</th>\n",
       "      <th>gate_2</th>\n",
       "      <th>gate_3</th>\n",
       "      <th>gate_4</th>\n",
       "      <th>...</th>\n",
       "      <th>triplet_11</th>\n",
       "      <th>triplet_12</th>\n",
       "      <th>diff_hour</th>\n",
       "      <th>diff_min</th>\n",
       "      <th>arrival_time</th>\n",
       "      <th>arrival_hour</th>\n",
       "      <th>arrival_min</th>\n",
       "      <th>departure_time</th>\n",
       "      <th>departure_hour</th>\n",
       "      <th>departure_min</th>\n",
       "    </tr>\n",
       "  </thead>\n",
       "  <tbody>\n",
       "    <tr>\n",
       "      <th>37670</th>\n",
       "      <td>NaN</td>\n",
       "      <td>2023-01-03 15:42:45</td>\n",
       "      <td>5</td>\n",
       "      <td>logistic</td>\n",
       "      <td>False</td>\n",
       "      <td>False</td>\n",
       "      <td>False</td>\n",
       "      <td>False</td>\n",
       "      <td>False</td>\n",
       "      <td>False</td>\n",
       "      <td>...</td>\n",
       "      <td>False</td>\n",
       "      <td>False</td>\n",
       "      <td>1</td>\n",
       "      <td>16</td>\n",
       "      <td>15:42:45</td>\n",
       "      <td>15</td>\n",
       "      <td>42</td>\n",
       "      <td>16:59:20</td>\n",
       "      <td>16</td>\n",
       "      <td>59</td>\n",
       "    </tr>\n",
       "    <tr>\n",
       "      <th>37672</th>\n",
       "      <td>NaN</td>\n",
       "      <td>2023-01-03 15:42:47</td>\n",
       "      <td>5</td>\n",
       "      <td>logistic</td>\n",
       "      <td>False</td>\n",
       "      <td>False</td>\n",
       "      <td>False</td>\n",
       "      <td>False</td>\n",
       "      <td>False</td>\n",
       "      <td>False</td>\n",
       "      <td>...</td>\n",
       "      <td>False</td>\n",
       "      <td>False</td>\n",
       "      <td>1</td>\n",
       "      <td>16</td>\n",
       "      <td>15:42:45</td>\n",
       "      <td>15</td>\n",
       "      <td>42</td>\n",
       "      <td>16:59:20</td>\n",
       "      <td>16</td>\n",
       "      <td>59</td>\n",
       "    </tr>\n",
       "    <tr>\n",
       "      <th>37681</th>\n",
       "      <td>NaN</td>\n",
       "      <td>2023-01-03 16:58:47</td>\n",
       "      <td>11</td>\n",
       "      <td>logistic</td>\n",
       "      <td>False</td>\n",
       "      <td>False</td>\n",
       "      <td>False</td>\n",
       "      <td>False</td>\n",
       "      <td>False</td>\n",
       "      <td>False</td>\n",
       "      <td>...</td>\n",
       "      <td>True</td>\n",
       "      <td>True</td>\n",
       "      <td>1</td>\n",
       "      <td>16</td>\n",
       "      <td>15:42:45</td>\n",
       "      <td>15</td>\n",
       "      <td>42</td>\n",
       "      <td>16:59:20</td>\n",
       "      <td>16</td>\n",
       "      <td>59</td>\n",
       "    </tr>\n",
       "    <tr>\n",
       "      <th>37682</th>\n",
       "      <td>NaN</td>\n",
       "      <td>2023-01-03 16:59:18</td>\n",
       "      <td>4</td>\n",
       "      <td>logistic</td>\n",
       "      <td>False</td>\n",
       "      <td>False</td>\n",
       "      <td>False</td>\n",
       "      <td>False</td>\n",
       "      <td>False</td>\n",
       "      <td>True</td>\n",
       "      <td>...</td>\n",
       "      <td>False</td>\n",
       "      <td>False</td>\n",
       "      <td>1</td>\n",
       "      <td>16</td>\n",
       "      <td>15:42:45</td>\n",
       "      <td>15</td>\n",
       "      <td>42</td>\n",
       "      <td>16:59:20</td>\n",
       "      <td>16</td>\n",
       "      <td>59</td>\n",
       "    </tr>\n",
       "    <tr>\n",
       "      <th>37683</th>\n",
       "      <td>NaN</td>\n",
       "      <td>2023-01-03 16:59:20</td>\n",
       "      <td>4</td>\n",
       "      <td>logistic</td>\n",
       "      <td>False</td>\n",
       "      <td>False</td>\n",
       "      <td>False</td>\n",
       "      <td>False</td>\n",
       "      <td>False</td>\n",
       "      <td>True</td>\n",
       "      <td>...</td>\n",
       "      <td>False</td>\n",
       "      <td>False</td>\n",
       "      <td>1</td>\n",
       "      <td>16</td>\n",
       "      <td>15:42:45</td>\n",
       "      <td>15</td>\n",
       "      <td>42</td>\n",
       "      <td>16:59:20</td>\n",
       "      <td>16</td>\n",
       "      <td>59</td>\n",
       "    </tr>\n",
       "  </tbody>\n",
       "</table>\n",
       "<p>5 rows × 77 columns</p>\n",
       "</div>"
      ],
      "text/plain": [
       "       user_id                  ts  gate_id user_word  gate_-1  gate_0  \\\n",
       "37670      NaN 2023-01-03 15:42:45        5  logistic    False   False   \n",
       "37672      NaN 2023-01-03 15:42:47        5  logistic    False   False   \n",
       "37681      NaN 2023-01-03 16:58:47       11  logistic    False   False   \n",
       "37682      NaN 2023-01-03 16:59:18        4  logistic    False   False   \n",
       "37683      NaN 2023-01-03 16:59:20        4  logistic    False   False   \n",
       "\n",
       "       gate_1  gate_2  gate_3  gate_4  ...  triplet_11  triplet_12  diff_hour  \\\n",
       "37670   False   False   False   False  ...       False       False          1   \n",
       "37672   False   False   False   False  ...       False       False          1   \n",
       "37681   False   False   False   False  ...        True        True          1   \n",
       "37682   False   False   False    True  ...       False       False          1   \n",
       "37683   False   False   False    True  ...       False       False          1   \n",
       "\n",
       "       diff_min  arrival_time  arrival_hour  arrival_min  departure_time  \\\n",
       "37670        16      15:42:45            15           42        16:59:20   \n",
       "37672        16      15:42:45            15           42        16:59:20   \n",
       "37681        16      15:42:45            15           42        16:59:20   \n",
       "37682        16      15:42:45            15           42        16:59:20   \n",
       "37683        16      15:42:45            15           42        16:59:20   \n",
       "\n",
       "       departure_hour  departure_min  \n",
       "37670              16             59  \n",
       "37672              16             59  \n",
       "37681              16             59  \n",
       "37682              16             59  \n",
       "37683              16             59  \n",
       "\n",
       "[5 rows x 77 columns]"
      ]
     },
     "execution_count": 75,
     "metadata": {},
     "output_type": "execute_result"
    }
   ],
   "source": [
    "all_data[all_data[\"user_word\"] == \"logistic\"]"
   ]
  },
  {
   "cell_type": "code",
   "execution_count": 76,
   "id": "c631fe79",
   "metadata": {},
   "outputs": [],
   "source": [
    "import numpy as np\n",
    "\n",
    "\n",
    "\n",
    "# Создаем функции для вычисления среднего времени\n",
    "def time_to_seconds(t):\n",
    "    return t.hour * 3600 + t.minute * 60 + t.second\n",
    "\n",
    "def seconds_to_time(s):\n",
    "    return pd.to_timedelta(s, unit='s')\n",
    "\n",
    "test_data = all_data[all_data[\"user_word\"].isna() == False].groupby([\"user_word\"]).agg(\n",
    "        average_arrival_test=('arrival_time', lambda x: seconds_to_time(np.mean([time_to_seconds(t) for t in x]))),\n",
    "        std_arrival_test=('arrival_time', lambda x: seconds_to_time(np.std([time_to_seconds(t) for t in x]))),\n",
    "        average_departure_test=('departure_time', lambda x: seconds_to_time(np.mean([time_to_seconds(t) for t in x]))),\n",
    "        std_departure_test=('departure_time', lambda x: seconds_to_time(np.std([time_to_seconds(t) for t in x])))\n",
    "    )\n",
    "\n",
    "train_data = all_data[all_data[\"user_word\"].isna()].groupby([\"user_id\"]).agg(\n",
    "        average_arrival_train=('arrival_time', lambda x: seconds_to_time(np.mean([time_to_seconds(t) for t in x]))),\n",
    "        std_arrival_train=('arrival_time', lambda x: seconds_to_time(np.std([time_to_seconds(t) for t in x]))),\n",
    "        average_departure_train=('departure_time', lambda x: seconds_to_time(np.mean([time_to_seconds(t) for t in x]))),\n",
    "        std_departure_train=('departure_time', lambda x: seconds_to_time(np.std([time_to_seconds(t) for t in x])))\n",
    "    )\n",
    "\n",
    "\n",
    "all_data = pd.merge(all_data, test_data.reset_index(), how=\"left\", on=[\"user_word\"])\n",
    "all_data = pd.merge(all_data, train_data.reset_index(), how=\"left\", on=[\"user_id\"])\n",
    "\n",
    "all_data[\"average_arrival\"] = (all_data[\"average_arrival_test\"].fillna(all_data[\"average_arrival_train\"]))\n",
    "all_data[\"std_arrival\"] = all_data[\"std_arrival_test\"].fillna(all_data[\"std_arrival_train\"])\n",
    "all_data[\"average_departure\"] = all_data[\"average_departure_test\"].fillna(all_data[\"average_departure_train\"])\n",
    "all_data[\"std_departure\"] = all_data[\"std_departure_test\"].fillna(all_data[\"std_departure_train\"])\n",
    "all_data.drop([\"average_arrival_test\", \"average_arrival_train\", \"std_arrival_test\", \"std_arrival_train\", \"average_departure_test\", \"average_departure_train\", \"std_departure_test\", \"std_departure_train\"], axis=1, inplace=True)\n",
    "\n",
    "\n",
    "all_data[\"average_arrival\"] = all_data[\"average_arrival\"].dt.seconds // 60\n",
    "all_data[\"std_arrival\"] = all_data[\"std_arrival\"].dt.seconds // 60\n",
    "\n",
    "all_data[\"average_departure\"] = all_data[\"average_departure\"].dt.seconds // 60\n",
    "all_data[\"std_departure\"] = all_data[\"std_departure\"].dt.seconds // 60\n",
    "\n",
    "all_data.drop([\"arrival_time\", \"departure_time\"], inplace=True, axis=1)"
   ]
  },
  {
   "cell_type": "code",
   "execution_count": 77,
   "id": "30b07ab4",
   "metadata": {},
   "outputs": [],
   "source": [
    "# 8th transformation\n",
    "# Gates number\n",
    "\n",
    "\n",
    "all_data['count_train'] = all_data.groupby(['user_id', 'month', 'day'])['ts'].transform('count')\n",
    "all_data['count_test'] = all_data.groupby(['user_word', 'month', 'day'])['ts'].transform('count')\n",
    "all_data['gates_today'] = all_data['count_train'].fillna(all_data['count_test'])\n",
    "all_data.drop(['count_train', 'count_test'], axis=1, inplace=True)\n",
    "\n",
    "\n",
    "forsomereason = all_data.groupby(['user_id'])['gates_today'].agg([\"mean\", \"std\"])\n",
    "forsomereason.rename({\"mean\": \"mean_train\", \"std\": \"std_train\"}, axis=1, inplace=True)\n",
    "all_data = pd.merge(all_data, forsomereason, on=\"user_id\", how=\"left\")\n",
    "\n",
    "forsomereason = all_data.groupby(['user_word'])['gates_today'].agg([\"mean\", \"std\"])\n",
    "forsomereason.rename({\"mean\": \"mean_test\", \"std\": \"std_test\"}, axis=1, inplace=True)\n",
    "all_data = pd.merge(all_data, forsomereason, on=\"user_word\", how=\"left\")\n",
    "\n",
    "all_data[\"gates_avg\"] = all_data[\"mean_train\"].fillna(all_data[\"mean_test\"])\n",
    "all_data[\"gates_std\"] = all_data[\"std_train\"].fillna(all_data[\"std_test\"])\n",
    "all_data.drop(['mean_train', 'mean_test', \"std_test\", \"std_train\"], axis=1, inplace=True)\n"
   ]
  },
  {
   "cell_type": "code",
   "execution_count": 78,
   "id": "e322bbbe",
   "metadata": {},
   "outputs": [
    {
     "name": "stdout",
     "output_type": "stream",
     "text": [
      "Index(['user_id', 'ts', 'gate_id', 'user_word', 'gate_-1', 'gate_0', 'gate_1',\n",
      "       'gate_2', 'gate_3', 'gate_4', 'gate_5', 'gate_6', 'gate_7', 'gate_8',\n",
      "       'gate_9', 'gate_10', 'gate_11', 'gate_12', 'gate_13', 'gate_14',\n",
      "       'gate_15', 'gate_16', 'Monday', 'Tuesday', 'Wednesday', 'Thursday',\n",
      "       'Friday', 'Saturday', 'Sunday', 'hour', 'minute', 'day', 'month', 'h_0',\n",
      "       'h_1', 'h_3', 'h_6', 'h_7', 'h_8', 'h_9', 'h_10', 'h_11', 'h_12',\n",
      "       'h_13', 'h_14', 'h_15', 'h_16', 'h_17', 'h_18', 'h_19', 'h_20', 'h_21',\n",
      "       'h_22', 'h_23', 'is_weekend', 'gate_half', 'triplet_0', 'triplet_1',\n",
      "       'triplet_2', 'triplet_3', 'triplet_4', 'triplet_5', 'triplet_6',\n",
      "       'triplet_7', 'triplet_8', 'triplet_9', 'triplet_10', 'triplet_11',\n",
      "       'triplet_12', 'diff_hour', 'diff_min', 'arrival_hour', 'arrival_min',\n",
      "       'departure_hour', 'departure_min', 'average_arrival', 'std_arrival',\n",
      "       'average_departure', 'std_departure', 'gates_today', 'gates_avg',\n",
      "       'gates_std'],\n",
      "      dtype='object') 82\n"
     ]
    }
   ],
   "source": [
    "print(all_data.columns, len(all_data.columns))"
   ]
  },
  {
   "cell_type": "code",
   "execution_count": 79,
   "id": "298b9b31",
   "metadata": {},
   "outputs": [
    {
     "data": {
      "text/plain": [
       "max      2022-12-31 20:39:31\n",
       "count                  37518\n",
       "Name: ts, dtype: object"
      ]
     },
     "execution_count": 79,
     "metadata": {},
     "output_type": "execute_result"
    }
   ],
   "source": [
    "train['ts'].agg(['max','count'])"
   ]
  },
  {
   "cell_type": "code",
   "execution_count": 80,
   "id": "e7e72539",
   "metadata": {},
   "outputs": [
    {
     "data": {
      "text/plain": [
       "min      2023-01-03 08:21:00\n",
       "max      2023-02-24 19:44:09\n",
       "count                   7125\n",
       "Name: ts, dtype: object"
      ]
     },
     "execution_count": 80,
     "metadata": {},
     "output_type": "execute_result"
    }
   ],
   "source": [
    "test['ts'].agg(['min','max','count'])"
   ]
  },
  {
   "cell_type": "markdown",
   "id": "460f84ec",
   "metadata": {},
   "source": [
    "### Подготовить трэйн и валидацию\n",
    "\n",
    "В результате получается два датафрейма.\n",
    "- train - записи с начала до 30 ноября\n",
    "- validation - записи с 30 ноября до 31 декабря"
   ]
  },
  {
   "cell_type": "code",
   "execution_count": 81,
   "id": "0dfd2c88",
   "metadata": {},
   "outputs": [],
   "source": [
    "# Подготовим данные для train, test\n",
    "\n",
    "train_idx = all_data['user_word'].isnull()\n",
    "not_test = all_data[train_idx].copy()"
   ]
  },
  {
   "cell_type": "code",
   "execution_count": 82,
   "id": "00b881aa",
   "metadata": {},
   "outputs": [],
   "source": [
    "val_index = not_test['ts'] > '2022-11-30'\n",
    "\n",
    "train = not_test[~val_index].copy()\n",
    "validation = not_test[val_index].copy()"
   ]
  },
  {
   "cell_type": "code",
   "execution_count": 83,
   "id": "9811e80e",
   "metadata": {},
   "outputs": [
    {
     "data": {
      "text/plain": [
       "((30535, 82), (44643, 82), (6983, 82))"
      ]
     },
     "execution_count": 83,
     "metadata": {},
     "output_type": "execute_result"
    }
   ],
   "source": [
    "train.shape, all_data.shape, validation.shape"
   ]
  },
  {
   "cell_type": "markdown",
   "id": "9fffb05f",
   "metadata": {},
   "source": [
    "### Варианты с классическим ML"
   ]
  },
  {
   "cell_type": "code",
   "execution_count": 84,
   "id": "43191a40",
   "metadata": {},
   "outputs": [],
   "source": [
    "from sklearn.ensemble import RandomForestClassifier\n",
    "from lightgbm import LGBMClassifier\n",
    "from catboost import CatBoostClassifier\n",
    "from sklearn.neighbors import KNeighborsClassifier\n",
    "from sklearn.svm import SVC\n",
    "from sklearn.naive_bayes import GaussianNB"
   ]
  },
  {
   "cell_type": "code",
   "execution_count": 85,
   "id": "abb2d699",
   "metadata": {},
   "outputs": [],
   "source": [
    "y = train[\"user_id\"].astype(int)\n",
    "X = train.drop([\"user_id\", \"user_word\", \"ts\"], axis=1)\n",
    "\n",
    "y_val = validation[\"user_id\"].astype(int)\n",
    "X_val = validation.drop([\"user_id\", \"user_word\", \"ts\"], axis=1)"
   ]
  },
  {
   "cell_type": "markdown",
   "id": "af09a941",
   "metadata": {},
   "source": [
    "##### Scaling (отключен)"
   ]
  },
  {
   "cell_type": "code",
   "execution_count": 86,
   "id": "c59eba30",
   "metadata": {},
   "outputs": [],
   "source": [
    "to_scale = True\n",
    "\n",
    "\n",
    "if to_scale:\n",
    "    \n",
    "    # Сделаем нормирование \n",
    "    scaler_X = StandardScaler()\n",
    "    scaler_X_val = StandardScaler()\n",
    "    \n",
    "    X = pd.DataFrame(scaler_X.fit_transform(X), columns=X.columns)\n",
    "    X_val = pd.DataFrame(scaler_X_val.fit_transform(X_val), columns=X_val.columns)\n",
    "\n",
    "    "
   ]
  },
  {
   "cell_type": "markdown",
   "id": "d870d954",
   "metadata": {},
   "source": [
    "##### Начинаем обучени\n",
    "Моделька запихивается в переменную model, чтоб потом можно было ее обучить на настоящем train"
   ]
  },
  {
   "cell_type": "code",
   "execution_count": 87,
   "id": "7db73859",
   "metadata": {},
   "outputs": [],
   "source": [
    "\n",
    "# Деревья уходили в переобучения. И ничего хорошего не выходило\n",
    "model = KNeighborsClassifier(n_neighbors=10, metric='cosine') #104 14\n",
    "model = LogisticRegression()\n",
    "#model = CatBoostClassifier(learning_rate=0.001, depth=6, l2_leaf_reg=3, iterations=1000)\n",
    "#model = RandomForestClassifier(n_estimators=100, class_weight='balanced', max_depth=21, criterion='entropy')\n",
    "clf = model.fit(X, y)\n",
    "\n",
    "y_pred = clf.predict(X)\n",
    "\n",
    "y_val_pred = clf.predict(X_val)\n"
   ]
  },
  {
   "cell_type": "markdown",
   "id": "3ada382c",
   "metadata": {},
   "source": [
    "### Нейросетевая попытка (Не сработала)"
   ]
  },
  {
   "cell_type": "code",
   "execution_count": 565,
   "id": "cebb9798",
   "metadata": {},
   "outputs": [],
   "source": [
    "X.drop([\"ts\", \"user_word\"], axis=1, inplace=True)\n",
    "X_val.drop([\"ts\", \"user_word\"], axis=1, inplace=True)"
   ]
  },
  {
   "cell_type": "code",
   "execution_count": 573,
   "id": "38dc5686",
   "metadata": {},
   "outputs": [
    {
     "data": {
      "text/plain": [
       "50"
      ]
     },
     "execution_count": 573,
     "metadata": {},
     "output_type": "execute_result"
    }
   ],
   "source": [
    "len(X[\"user_id\"].unique())"
   ]
  },
  {
   "cell_type": "code",
   "execution_count": 567,
   "id": "465ac5e8",
   "metadata": {},
   "outputs": [],
   "source": [
    "import torch\n",
    "from torch.utils.data import Dataset, DataLoader\n",
    "\n",
    "class CustomDataset(Dataset):\n",
    "    def __init__(self, dataframe, target_column):\n",
    "        self.dataframe = dataframe\n",
    "        self.target_column = target_column\n",
    "\n",
    "    def __len__(self):\n",
    "        return len(self.dataframe)\n",
    "\n",
    "    def __getitem__(self, idx):\n",
    "        row = self.dataframe.iloc[idx]\n",
    "        features = row.drop(self.target_column).values.astype(float)  \n",
    "        label = row[self.target_column]\n",
    "        \n",
    "        return torch.tensor(features, dtype=torch.float32), torch.tensor(label, dtype=torch.long)\n",
    "\n",
    "\n",
    "target_column = 'user_id'\n",
    "dataset = CustomDataset(X, target_column)\n",
    "\n",
    "data_loader = DataLoader(dataset, batch_size=2, shuffle=True)"
   ]
  },
  {
   "cell_type": "code",
   "execution_count": 578,
   "id": "3d78b883",
   "metadata": {},
   "outputs": [
    {
     "name": "stdout",
     "output_type": "stream",
     "text": [
      "Epoch [1/10], Loss: 4.5669\n",
      "Epoch [2/10], Loss: 1.9147\n",
      "Epoch [3/10], Loss: 0.4321\n",
      "Epoch [4/10], Loss: 2.3233\n",
      "Epoch [5/10], Loss: 1.2663\n",
      "Epoch [6/10], Loss: 2.9918\n",
      "Epoch [7/10], Loss: 0.0277\n",
      "Epoch [8/10], Loss: 0.0565\n",
      "Epoch [9/10], Loss: 1.1620\n",
      "Epoch [10/10], Loss: 0.0210\n",
      "User vector from hidden layer: tensor([[ 0.3591,  0.0000,  1.6366,  0.5369,  0.0000,  0.0000,  0.0000,  0.0000,\n",
      "         10.6264,  0.4246,  0.2583,  0.0000,  0.0000,  0.5845,  0.1144,  3.5070,\n",
      "          0.0000,  0.0430,  0.0000,  0.0000,  3.4792,  3.2731,  0.3296,  0.3803,\n",
      "          1.0154,  0.4255,  0.0000,  0.0257,  0.7121,  1.0507,  0.0000,  1.3996,\n",
      "          0.0000,  0.0651,  0.0000,  0.0000,  5.8750,  0.0000,  0.0000,  0.0000,\n",
      "          0.2281,  0.5439,  0.0000,  0.3879,  0.3671,  0.3158,  0.0000,  0.0000,\n",
      "          0.0000,  6.7179,  0.7611,  0.4259,  0.1662,  0.7356,  0.0000,  0.4897,\n",
      "          0.0000,  0.0000,  0.0000,  0.0000,  0.0000,  0.3409,  5.3575,  0.0000,\n",
      "          0.0000,  0.2504,  0.1535,  0.0000,  0.0000,  0.0000,  3.5666,  0.3998,\n",
      "          1.1071,  0.2330,  3.9513,  0.1180,  2.7047,  0.0000,  0.3135,  0.0000,\n",
      "          0.1813,  2.0725,  0.3093,  0.0000,  0.0000,  0.0000,  0.0000,  0.0000,\n",
      "          0.0000,  0.6974,  0.2818,  3.0048,  0.0000,  0.0000,  4.5234,  0.0000,\n",
      "          2.2251,  0.0000,  0.0000,  0.5844,  0.0000,  0.0000,  0.0000,  0.0000,\n",
      "          0.5895,  0.0000,  0.0000,  0.4430,  0.0000,  1.7831,  0.0000,  0.0000,\n",
      "          0.4916,  0.0000,  0.1808,  0.6107,  0.4447,  0.0000,  0.0000,  1.5889,\n",
      "          0.0000,  1.2684,  0.0000,  0.0000,  0.0000,  3.1368,  0.0000,  9.2768,\n",
      "          0.0000,  0.6798,  0.2823,  3.4529,  0.0000,  0.0000,  0.5336,  0.0000,\n",
      "          1.1463,  0.0220,  0.0000,  1.5889,  2.1413,  0.0000,  3.2313,  3.1728,\n",
      "          2.3136,  0.0000,  0.1177,  0.0000,  0.0000,  1.6073]])\n"
     ]
    }
   ],
   "source": [
    "import torch\n",
    "import torch.nn as nn\n",
    "import torch.optim as optim\n",
    "\n",
    "class MLP(nn.Module):\n",
    "    def __init__(self, input_dim, hidden_dim1, hidden_dim2, output_dim):\n",
    "        super(MLP, self).__init__()\n",
    "        self.hidden1 = nn.Linear(input_dim, hidden_dim1)\n",
    "        self.hidden2 = nn.Linear(hidden_dim1, hidden_dim2)\n",
    "        self.output = nn.Linear(hidden_dim2, output_dim)\n",
    "\n",
    "    def forward(self, x):\n",
    "        x = torch.relu(self.hidden1(x))\n",
    "        x = torch.relu(self.hidden2(x))\n",
    "        x = self.output(x)\n",
    "        return x\n",
    "\n",
    "input_dim = 72  \n",
    "hidden_dim1 = 150\n",
    "hidden_dim2 = 300\n",
    "output_dim = 58 \n",
    "\n",
    "model = MLP(input_dim, hidden_dim1, hidden_dim2, output_dim)\n",
    "\n",
    "criterion = nn.CrossEntropyLoss()\n",
    "optimizer = optim.Adam(model.parameters(), lr=0.001)\n",
    "\n",
    "def train(model, data_loader, criterion, optimizer, epochs=10):\n",
    "    model.train()\n",
    "    for epoch in range(epochs):\n",
    "        for inputs, labels in data_loader:\n",
    "            optimizer.zero_grad()\n",
    "            outputs = model(inputs)\n",
    "            loss = criterion(outputs, labels)\n",
    "            loss.backward()\n",
    "            optimizer.step()\n",
    "        print(f'Epoch [{epoch+1}/{epochs}], Loss: {loss.item():.4f}')\n",
    "\n",
    "def get_hidden_vectors(model, inputs):\n",
    "    with torch.no_grad():\n",
    "        hidden_layer_output = torch.relu(model.hidden1(inputs))\n",
    "        return hidden_layer_output\n",
    "\n",
    "train(model, data_loader, criterion, optimizer)\n",
    "\n",
    "user_data = torch.randn(1, input_dim) \n",
    "user_vector = get_hidden_vectors(model, user_data)\n",
    "print(\"User vector from hidden layer:\", user_vector)\n"
   ]
  },
  {
   "cell_type": "code",
   "execution_count": 579,
   "id": "ea39207b",
   "metadata": {},
   "outputs": [],
   "source": [
    "dataset_val = CustomDataset(X_val, target_column)"
   ]
  },
  {
   "cell_type": "code",
   "execution_count": 594,
   "id": "5b2e9811",
   "metadata": {},
   "outputs": [
    {
     "data": {
      "text/plain": [
       "(6983, 73)"
      ]
     },
     "execution_count": 594,
     "metadata": {},
     "output_type": "execute_result"
    }
   ],
   "source": [
    "X_val.shape"
   ]
  },
  {
   "cell_type": "code",
   "execution_count": 595,
   "id": "b5aef742",
   "metadata": {},
   "outputs": [],
   "source": [
    "val_dataset = CustomDataset(X_val, target_column)\n",
    "\n",
    "val_loader = DataLoader(val_dataset, batch_size=2, shuffle=False)\n",
    "\n",
    "model.eval()  \n",
    "\n",
    "y_val_pred = []\n",
    "with torch.no_grad():  \n",
    "    for inputs, labels in val_loader:\n",
    "        outputs = model(inputs)  \n",
    "        _, predicted = torch.max(outputs, 1) \n",
    "        y_val_pred.extend(predicted.numpy())"
   ]
  },
  {
   "cell_type": "code",
   "execution_count": 596,
   "id": "40bf3715",
   "metadata": {},
   "outputs": [
    {
     "data": {
      "text/plain": [
       "6983"
      ]
     },
     "execution_count": 596,
     "metadata": {},
     "output_type": "execute_result"
    }
   ],
   "source": [
    "val_loader.dataset.__len__()"
   ]
  },
  {
   "cell_type": "code",
   "execution_count": 597,
   "id": "0d4661f7",
   "metadata": {},
   "outputs": [],
   "source": [
    "# Делаем валидацию нашей модель\n",
    "y_val_word = pd.DataFrame()\n",
    "\n",
    "\n",
    "y_val_word['word'] = 'user_' + y_val.astype(str) \n",
    "\n",
    "y_val_word['true'] = y_val\n",
    "\n",
    "y_val_word['preds'] = y_val_pred\n",
    "\n",
    "y_val_pred_word = pd.DataFrame(y_val_word.groupby('word')[['true','preds']].agg(lambda x: x.value_counts().index[0]))\n",
    "\n",
    "y_val_pred_word['comp'] = y_val_pred_word['preds'] == y_val_pred_word['true']\n",
    "\n",
    "y_val_pred_word['norm'] = 1\n"
   ]
  },
  {
   "cell_type": "markdown",
   "id": "2a7245af",
   "metadata": {},
   "source": [
    "### Оцениваем качество"
   ]
  },
  {
   "cell_type": "code",
   "execution_count": 39,
   "id": "e807fdf7-d115-43d7-b1b4-ad0e9545c526",
   "metadata": {},
   "outputs": [
    {
     "ename": "NameError",
     "evalue": "name 'y_val' is not defined",
     "output_type": "error",
     "traceback": [
      "\u001b[1;31m---------------------------------------------------------------------------\u001b[0m",
      "\u001b[1;31mNameError\u001b[0m                                 Traceback (most recent call last)",
      "Cell \u001b[1;32mIn[39], line 10\u001b[0m\n\u001b[0;32m      8\u001b[0m \u001b[38;5;66;03m# Что типа id в тестовой выборке\u001b[39;00m\n\u001b[0;32m      9\u001b[0m y_word[\u001b[38;5;124m'\u001b[39m\u001b[38;5;124mword\u001b[39m\u001b[38;5;124m'\u001b[39m] \u001b[38;5;241m=\u001b[39m \u001b[38;5;124m'\u001b[39m\u001b[38;5;124muser_\u001b[39m\u001b[38;5;124m'\u001b[39m \u001b[38;5;241m+\u001b[39m y\u001b[38;5;241m.\u001b[39mastype(\u001b[38;5;28mstr\u001b[39m)\n\u001b[1;32m---> 10\u001b[0m y_val_word[\u001b[38;5;124m'\u001b[39m\u001b[38;5;124mword\u001b[39m\u001b[38;5;124m'\u001b[39m] \u001b[38;5;241m=\u001b[39m \u001b[38;5;124m'\u001b[39m\u001b[38;5;124muser_\u001b[39m\u001b[38;5;124m'\u001b[39m \u001b[38;5;241m+\u001b[39m y_val\u001b[38;5;241m.\u001b[39mastype(\u001b[38;5;28mstr\u001b[39m) \n\u001b[0;32m     12\u001b[0m \u001b[38;5;66;03m# Целевая переменная ground truth\u001b[39;00m\n\u001b[0;32m     13\u001b[0m y_word[\u001b[38;5;124m'\u001b[39m\u001b[38;5;124mtrue\u001b[39m\u001b[38;5;124m'\u001b[39m] \u001b[38;5;241m=\u001b[39m y\n",
      "\u001b[1;31mNameError\u001b[0m: name 'y_val' is not defined"
     ]
    }
   ],
   "source": [
    "# Делаем валидацию нашей модель\n",
    "\n",
    "# Создаем новые датасеты\n",
    "y_word = pd.DataFrame()\n",
    "y_val_word = pd.DataFrame()\n",
    "\n",
    "\n",
    "# Что типа id в тестовой выборке\n",
    "y_word['word'] = 'user_' + y.astype(str)\n",
    "y_val_word['word'] = 'user_' + y_val.astype(str) \n",
    "\n",
    "# Целевая переменная ground truth\n",
    "y_word['true'] = y\n",
    "y_val_word['true'] = y_val\n",
    "\n",
    "# Добавим предсказания\n",
    "y_word['preds'] = y_pred\n",
    "y_val_word['preds'] = y_val_pred\n",
    "\n",
    "\n",
    "\n",
    "# Делаем датасеты с предсказаниями\n",
    "y_pred_word = pd.DataFrame(y_word.groupby('word')[['true','preds']].agg(lambda x: x.value_counts().index[0]))\n",
    "y_val_pred_word = pd.DataFrame(y_val_word.groupby('word')[['true','preds']].agg(lambda x: x.value_counts().index[0]))\n",
    "\n",
    "# Добавляем сравнение с ground truth\n",
    "y_pred_word['comp'] = y_pred_word['preds'] == y_pred_word['true']\n",
    "y_val_pred_word['comp'] = y_val_pred_word['preds'] == y_val_pred_word['true']\n",
    "\n",
    "\n",
    "# Веса юзеров мы не знаем, давайте возьмем равные веса для простоты = 1. Можно и не брать пролли\n",
    "y_pred_word['norm'] = 1\n",
    "y_val_pred_word['norm'] = 1\n"
   ]
  },
  {
   "cell_type": "code",
   "execution_count": null,
   "id": "7b7f1106",
   "metadata": {},
   "outputs": [
    {
     "name": "stdout",
     "output_type": "stream",
     "text": [
      "Оценка train2 42 50 84.0\n"
     ]
    }
   ],
   "source": [
    "# Оцениваем на train\n",
    "\n",
    "true_answers = (y_pred_word['comp'] * y_pred_word['norm']).sum()\n",
    "total_answers = y_pred_word['norm'].sum()\n",
    "precent_true = round((true_answers/total_answers)*100, 1)\n",
    "\n",
    "print('Оценка train2', true_answers, total_answers, precent_true)"
   ]
  },
  {
   "cell_type": "code",
   "execution_count": null,
   "id": "e40d16e1-e2e5-460b-89b2-4f1005dab98d",
   "metadata": {},
   "outputs": [
    {
     "name": "stdout",
     "output_type": "stream",
     "text": [
      "Оценка val 21 43 48.8\n"
     ]
    }
   ],
   "source": [
    "# Оцениваем на val\n",
    "\n",
    "true_answers_val = (y_val_pred_word['comp'] * y_val_pred_word['norm']).sum()\n",
    "total_answers_val = y_val_pred_word['norm'].sum()\n",
    "precent_true_val = round((true_answers_val/total_answers_val)*100, 1)\n",
    "\n",
    "print('Оценка val', true_answers_val, total_answers_val, precent_true_val)"
   ]
  },
  {
   "cell_type": "markdown",
   "id": "54edd785",
   "metadata": {},
   "source": [
    "### Готовим сабмит"
   ]
  },
  {
   "cell_type": "code",
   "execution_count": 40,
   "id": "fd264328",
   "metadata": {},
   "outputs": [],
   "source": [
    "n = all_data[all_data[\"user_id\"].notna()].shape[0]\n",
    "train_df = all_data[:n]\n",
    "test_df = all_data[n:]"
   ]
  },
  {
   "cell_type": "code",
   "execution_count": 41,
   "id": "8dddfa3f",
   "metadata": {},
   "outputs": [],
   "source": [
    "y_train = train_df[\"user_id\"].astype(int)\n",
    "X_train = train_df.drop([\"user_id\", \"user_word\", \"ts\"], axis=1)\n",
    "X_test = test_df.drop([\"user_id\", \"user_word\", \"ts\"], axis=1)"
   ]
  },
  {
   "cell_type": "code",
   "execution_count": 42,
   "id": "1badba0e",
   "metadata": {},
   "outputs": [],
   "source": [
    "scaler_X = StandardScaler()\n",
    "scaler_X_test = StandardScaler()\n",
    "\n",
    "X_train = pd.DataFrame(scaler_X.fit_transform(X_train), columns=X_train.columns)\n",
    "X_test = pd.DataFrame(scaler_X_test.fit_transform(X_test), columns=X_test.columns)"
   ]
  },
  {
   "cell_type": "code",
   "execution_count": 43,
   "id": "99e095c5",
   "metadata": {},
   "outputs": [
    {
     "ename": "NameError",
     "evalue": "name 'model' is not defined",
     "output_type": "error",
     "traceback": [
      "\u001b[1;31m---------------------------------------------------------------------------\u001b[0m",
      "\u001b[1;31mNameError\u001b[0m                                 Traceback (most recent call last)",
      "Cell \u001b[1;32mIn[43], line 1\u001b[0m\n\u001b[1;32m----> 1\u001b[0m clf \u001b[38;5;241m=\u001b[39m model\u001b[38;5;241m.\u001b[39mfit(X_train, y_train)\n\u001b[0;32m      3\u001b[0m y_train_pred \u001b[38;5;241m=\u001b[39m clf\u001b[38;5;241m.\u001b[39mpredict(X_train)\n\u001b[0;32m      5\u001b[0m y_test_pred \u001b[38;5;241m=\u001b[39m clf\u001b[38;5;241m.\u001b[39mpredict(X_test)\n",
      "\u001b[1;31mNameError\u001b[0m: name 'model' is not defined"
     ]
    }
   ],
   "source": [
    "clf = model.fit(X_train, y_train)\n",
    "\n",
    "y_train_pred = clf.predict(X_train)\n",
    "\n",
    "y_test_pred = clf.predict(X_test)"
   ]
  },
  {
   "cell_type": "code",
   "execution_count": null,
   "id": "a1227e35",
   "metadata": {},
   "outputs": [],
   "source": [
    "test_words = pd.DataFrame()\n",
    "\n",
    "test_words['user_word'] = test['user_word']\n",
    "test_words['preds'] = y_test_pred\n",
    "\n",
    "comp_df_test = pd.DataFrame(test_words.groupby('user_word')['preds'].agg(lambda x: x.value_counts().index[0]))\n",
    "\n",
    "comp_df_test.to_csv('answer.csv') \n"
   ]
  },
  {
   "cell_type": "code",
   "execution_count": null,
   "id": "52f31e88",
   "metadata": {},
   "outputs": [
    {
     "name": "stderr",
     "output_type": "stream",
     "text": [
      "'zip' is not recognized as an internal or external command,\n",
      "operable program or batch file.\n"
     ]
    }
   ],
   "source": [
    "! zip answer.zip answer.csv # Подготовка файла для отправки"
   ]
  },
  {
   "cell_type": "code",
   "execution_count": null,
   "id": "f676a355",
   "metadata": {},
   "outputs": [
    {
     "data": {
      "text/plain": [
       "0        False\n",
       "1        False\n",
       "2        False\n",
       "3        False\n",
       "4        False\n",
       "         ...  \n",
       "37513    False\n",
       "37514    False\n",
       "37515    False\n",
       "37516    False\n",
       "37517    False\n",
       "Name: user_id, Length: 37518, dtype: bool"
      ]
     },
     "execution_count": 326,
     "metadata": {},
     "output_type": "execute_result"
    }
   ],
   "source": [
    "train_df[\"user_id\"] == 0"
   ]
  },
  {
   "cell_type": "markdown",
   "id": "25fecd4c",
   "metadata": {},
   "source": [
    "#### Попробуем поанализировать ручками"
   ]
  },
  {
   "cell_type": "markdown",
   "id": "7e7e3ca1",
   "metadata": {},
   "source": [
    "#### logistic"
   ]
  },
  {
   "cell_type": "code",
   "execution_count": null,
   "id": "ee164904",
   "metadata": {},
   "outputs": [
    {
     "data": {
      "text/plain": [
       "user_id\n",
       "37    2262\n",
       "55    2238\n",
       "6     2013\n",
       "12    1953\n",
       "19    1793\n",
       "15    1756\n",
       "18    1578\n",
       "47    1341\n",
       "53    1311\n",
       "1     1299\n",
       "33    1285\n",
       "11    1281\n",
       "49    1275\n",
       "0     1250\n",
       "39    1144\n",
       "32    1076\n",
       "54    1070\n",
       "9     1034\n",
       "50     994\n",
       "29     990\n",
       "3      989\n",
       "48     743\n",
       "14     696\n",
       "17     677\n",
       "27     603\n",
       "35     601\n",
       "46     502\n",
       "57     497\n",
       "24     416\n",
       "42     359\n",
       "26     316\n",
       "34     284\n",
       "23     261\n",
       "25     247\n",
       "40     242\n",
       "31     191\n",
       "56     137\n",
       "41     124\n",
       "43     124\n",
       "20     115\n",
       "22      96\n",
       "28      64\n",
       "45      57\n",
       "7       49\n",
       "36      48\n",
       "2       39\n",
       "8       29\n",
       "10      17\n",
       "38      13\n",
       "5       10\n",
       "30      10\n",
       "52       5\n",
       "21       5\n",
       "44       4\n",
       "51       3\n",
       "4        2\n",
       "Name: count, dtype: int64"
      ]
     },
     "execution_count": 327,
     "metadata": {},
     "output_type": "execute_result"
    }
   ],
   "source": [
    "# Глянем тех, у кого мало записей в трэйне. Мб подойдет\n",
    "train[\"user_id\"].value_counts()\n",
    "#Слишком много вариантов. Ничего полезного"
   ]
  },
  {
   "cell_type": "code",
   "execution_count": null,
   "id": "e341de71",
   "metadata": {},
   "outputs": [
    {
     "data": {
      "text/html": [
       "<div>\n",
       "<style scoped>\n",
       "    .dataframe tbody tr th:only-of-type {\n",
       "        vertical-align: middle;\n",
       "    }\n",
       "\n",
       "    .dataframe tbody tr th {\n",
       "        vertical-align: top;\n",
       "    }\n",
       "\n",
       "    .dataframe thead th {\n",
       "        text-align: right;\n",
       "    }\n",
       "</style>\n",
       "<table border=\"1\" class=\"dataframe\">\n",
       "  <thead>\n",
       "    <tr style=\"text-align: right;\">\n",
       "      <th></th>\n",
       "      <th>user_id</th>\n",
       "      <th>ts</th>\n",
       "      <th>gate_id</th>\n",
       "      <th>user_word</th>\n",
       "      <th>gate_-1</th>\n",
       "      <th>gate_0</th>\n",
       "      <th>gate_1</th>\n",
       "      <th>gate_2</th>\n",
       "      <th>gate_3</th>\n",
       "      <th>gate_4</th>\n",
       "      <th>...</th>\n",
       "      <th>arrival_min</th>\n",
       "      <th>departure_hour</th>\n",
       "      <th>departure_min</th>\n",
       "      <th>average_arrival</th>\n",
       "      <th>std_arrival</th>\n",
       "      <th>average_departure</th>\n",
       "      <th>std_departure</th>\n",
       "      <th>gates_today</th>\n",
       "      <th>gates_avg</th>\n",
       "      <th>gates_std</th>\n",
       "    </tr>\n",
       "  </thead>\n",
       "  <tbody>\n",
       "    <tr>\n",
       "      <th>37670</th>\n",
       "      <td>NaN</td>\n",
       "      <td>2023-01-03 15:42:45</td>\n",
       "      <td>5</td>\n",
       "      <td>logistic</td>\n",
       "      <td>False</td>\n",
       "      <td>False</td>\n",
       "      <td>False</td>\n",
       "      <td>False</td>\n",
       "      <td>False</td>\n",
       "      <td>False</td>\n",
       "      <td>...</td>\n",
       "      <td>42</td>\n",
       "      <td>16</td>\n",
       "      <td>59</td>\n",
       "      <td>942</td>\n",
       "      <td>0</td>\n",
       "      <td>1019</td>\n",
       "      <td>0</td>\n",
       "      <td>5.0</td>\n",
       "      <td>5.0</td>\n",
       "      <td>0.0</td>\n",
       "    </tr>\n",
       "    <tr>\n",
       "      <th>37672</th>\n",
       "      <td>NaN</td>\n",
       "      <td>2023-01-03 15:42:47</td>\n",
       "      <td>5</td>\n",
       "      <td>logistic</td>\n",
       "      <td>False</td>\n",
       "      <td>False</td>\n",
       "      <td>False</td>\n",
       "      <td>False</td>\n",
       "      <td>False</td>\n",
       "      <td>False</td>\n",
       "      <td>...</td>\n",
       "      <td>42</td>\n",
       "      <td>16</td>\n",
       "      <td>59</td>\n",
       "      <td>942</td>\n",
       "      <td>0</td>\n",
       "      <td>1019</td>\n",
       "      <td>0</td>\n",
       "      <td>5.0</td>\n",
       "      <td>5.0</td>\n",
       "      <td>0.0</td>\n",
       "    </tr>\n",
       "    <tr>\n",
       "      <th>37681</th>\n",
       "      <td>NaN</td>\n",
       "      <td>2023-01-03 16:58:47</td>\n",
       "      <td>11</td>\n",
       "      <td>logistic</td>\n",
       "      <td>False</td>\n",
       "      <td>False</td>\n",
       "      <td>False</td>\n",
       "      <td>False</td>\n",
       "      <td>False</td>\n",
       "      <td>False</td>\n",
       "      <td>...</td>\n",
       "      <td>42</td>\n",
       "      <td>16</td>\n",
       "      <td>59</td>\n",
       "      <td>942</td>\n",
       "      <td>0</td>\n",
       "      <td>1019</td>\n",
       "      <td>0</td>\n",
       "      <td>5.0</td>\n",
       "      <td>5.0</td>\n",
       "      <td>0.0</td>\n",
       "    </tr>\n",
       "    <tr>\n",
       "      <th>37682</th>\n",
       "      <td>NaN</td>\n",
       "      <td>2023-01-03 16:59:18</td>\n",
       "      <td>4</td>\n",
       "      <td>logistic</td>\n",
       "      <td>False</td>\n",
       "      <td>False</td>\n",
       "      <td>False</td>\n",
       "      <td>False</td>\n",
       "      <td>False</td>\n",
       "      <td>True</td>\n",
       "      <td>...</td>\n",
       "      <td>42</td>\n",
       "      <td>16</td>\n",
       "      <td>59</td>\n",
       "      <td>942</td>\n",
       "      <td>0</td>\n",
       "      <td>1019</td>\n",
       "      <td>0</td>\n",
       "      <td>5.0</td>\n",
       "      <td>5.0</td>\n",
       "      <td>0.0</td>\n",
       "    </tr>\n",
       "    <tr>\n",
       "      <th>37683</th>\n",
       "      <td>NaN</td>\n",
       "      <td>2023-01-03 16:59:20</td>\n",
       "      <td>4</td>\n",
       "      <td>logistic</td>\n",
       "      <td>False</td>\n",
       "      <td>False</td>\n",
       "      <td>False</td>\n",
       "      <td>False</td>\n",
       "      <td>False</td>\n",
       "      <td>True</td>\n",
       "      <td>...</td>\n",
       "      <td>42</td>\n",
       "      <td>16</td>\n",
       "      <td>59</td>\n",
       "      <td>942</td>\n",
       "      <td>0</td>\n",
       "      <td>1019</td>\n",
       "      <td>0</td>\n",
       "      <td>5.0</td>\n",
       "      <td>5.0</td>\n",
       "      <td>0.0</td>\n",
       "    </tr>\n",
       "  </tbody>\n",
       "</table>\n",
       "<p>5 rows × 82 columns</p>\n",
       "</div>"
      ],
      "text/plain": [
       "       user_id                  ts  gate_id user_word  gate_-1  gate_0  \\\n",
       "37670      NaN 2023-01-03 15:42:45        5  logistic    False   False   \n",
       "37672      NaN 2023-01-03 15:42:47        5  logistic    False   False   \n",
       "37681      NaN 2023-01-03 16:58:47       11  logistic    False   False   \n",
       "37682      NaN 2023-01-03 16:59:18        4  logistic    False   False   \n",
       "37683      NaN 2023-01-03 16:59:20        4  logistic    False   False   \n",
       "\n",
       "       gate_1  gate_2  gate_3  gate_4  ...  arrival_min  departure_hour  \\\n",
       "37670   False   False   False   False  ...           42              16   \n",
       "37672   False   False   False   False  ...           42              16   \n",
       "37681   False   False   False   False  ...           42              16   \n",
       "37682   False   False   False    True  ...           42              16   \n",
       "37683   False   False   False    True  ...           42              16   \n",
       "\n",
       "       departure_min  average_arrival  std_arrival  average_departure  \\\n",
       "37670             59              942            0               1019   \n",
       "37672             59              942            0               1019   \n",
       "37681             59              942            0               1019   \n",
       "37682             59              942            0               1019   \n",
       "37683             59              942            0               1019   \n",
       "\n",
       "       std_departure  gates_today  gates_avg  gates_std  \n",
       "37670              0          5.0        5.0        0.0  \n",
       "37672              0          5.0        5.0        0.0  \n",
       "37681              0          5.0        5.0        0.0  \n",
       "37682              0          5.0        5.0        0.0  \n",
       "37683              0          5.0        5.0        0.0  \n",
       "\n",
       "[5 rows x 82 columns]"
      ]
     },
     "execution_count": 328,
     "metadata": {},
     "output_type": "execute_result"
    }
   ],
   "source": [
    "# Пришел поздно и на час\n",
    "# При этом очень много странных считываний\n",
    "test_df[test_df[\"user_word\"] == \"logistic\"]"
   ]
  },
  {
   "cell_type": "code",
   "execution_count": null,
   "id": "2cf30d92",
   "metadata": {},
   "outputs": [
    {
     "data": {
      "text/plain": [
       "user_id\n",
       "12.0    165\n",
       "14.0     60\n",
       "9.0      54\n",
       "15.0     33\n",
       "6.0      21\n",
       "56.0     20\n",
       "19.0     18\n",
       "34.0     14\n",
       "29.0     11\n",
       "46.0     11\n",
       "36.0      9\n",
       "40.0      7\n",
       "43.0      5\n",
       "Name: count, dtype: int64"
      ]
     },
     "execution_count": 329,
     "metadata": {},
     "output_type": "execute_result"
    }
   ],
   "source": [
    "# Ищем нашего типа. По примерным условиям\n",
    "train_df[(train_df[\"arrival_hour\"] > 12) & (train_df[\"arrival_hour\"] < 16) & (train_df[\"diff_hour\"]<4) & (train_df[\"diff_hour\"]>2)][\"user_id\"].value_counts()"
   ]
  },
  {
   "cell_type": "code",
   "execution_count": null,
   "id": "4c089085",
   "metadata": {},
   "outputs": [
    {
     "data": {
      "text/plain": [
       "user_id\n",
       "6.0     2013\n",
       "12.0    1953\n",
       "19.0    1793\n",
       "15.0    1756\n",
       "9.0     1034\n",
       "29.0     990\n",
       "14.0     696\n",
       "46.0     502\n",
       "34.0     284\n",
       "40.0     242\n",
       "56.0     137\n",
       "43.0     124\n",
       "36.0      48\n",
       "Name: count, dtype: int64"
      ]
     },
     "execution_count": 330,
     "metadata": {},
     "output_type": "execute_result"
    }
   ],
   "source": [
    "#Наш типок должен быть довольно редным\n",
    "shortlist = [12.0, 14.0, 9.0, 15.0, 6.0, 56.0, 19.0, 34.0, 29.0, 46.0, 36.0,40.0,43.0]\n",
    "train_df[train_df[\"user_id\"].isin(shortlist)][\"user_id\"].value_counts()"
   ]
  },
  {
   "cell_type": "code",
   "execution_count": null,
   "id": "cdfb9075",
   "metadata": {},
   "outputs": [],
   "source": [
    "# Чекаем 36 - подходит"
   ]
  },
  {
   "cell_type": "markdown",
   "id": "c247ea8e",
   "metadata": {},
   "source": [
    "#### y"
   ]
  },
  {
   "cell_type": "code",
   "execution_count": null,
   "id": "6c524d41",
   "metadata": {},
   "outputs": [
    {
     "data": {
      "image/png": "[encoded data removed]",
      "text/plain": [
       "<Figure size 1500x1500 with 4 Axes>"
      ]
     },
     "metadata": {},
     "output_type": "display_data"
    }
   ],
   "source": [
    "# Create a plot with subplots for each value of user_word\n",
    "fig, axes = plt.subplots(2, 2, figsize=(15, 15))\n",
    "\n",
    "\n",
    "sns.histplot(data=test_df[test_df[\"user_word\"] == \"independent\"], x=\"ts\", ax=axes[0][0])\n",
    "axes[0][0].set_title(\"independent\")\n",
    "axes[0][0].xaxis.set_major_locator(plt.MaxNLocator(4))\n",
    "\n",
    "sns.histplot(data=test_df[test_df[\"user_word\"] == \"significant\"], x=\"ts\", ax=axes[0][1])\n",
    "axes[0][1].set_title(\"significant\")\n",
    "axes[0][1].xaxis.set_major_locator(plt.MaxNLocator(4))\n",
    "\n",
    "sns.histplot(data=test_df[test_df[\"user_word\"] == \"y\"], x=\"ts\", ax=axes[1][0])\n",
    "axes[1][0].set_title(\"y\")\n",
    "axes[1][0].xaxis.set_major_locator(plt.MaxNLocator(4))\n",
    "\n",
    "sns.histplot(data=train_df[train_df[\"user_id\"] == 0], x=\"ts\", ax=axes[1][1])\n",
    "axes[1][1].set_title(\"user_id == 0\")\n",
    "axes[1][1].xaxis.set_major_locator(plt.MaxNLocator(4))\n",
    "\n",
    "\n",
    "plt.show()\n"
   ]
  },
  {
   "cell_type": "code",
   "execution_count": null,
   "id": "092c06e4",
   "metadata": {},
   "outputs": [
    {
     "name": "stdout",
     "output_type": "stream",
     "text": [
      "(57, 82)\n"
     ]
    },
    {
     "data": {
      "text/html": [
       "<div>\n",
       "<style scoped>\n",
       "    .dataframe tbody tr th:only-of-type {\n",
       "        vertical-align: middle;\n",
       "    }\n",
       "\n",
       "    .dataframe tbody tr th {\n",
       "        vertical-align: top;\n",
       "    }\n",
       "\n",
       "    .dataframe thead th {\n",
       "        text-align: right;\n",
       "    }\n",
       "</style>\n",
       "<table border=\"1\" class=\"dataframe\">\n",
       "  <thead>\n",
       "    <tr style=\"text-align: right;\">\n",
       "      <th></th>\n",
       "      <th>user_id</th>\n",
       "      <th>ts</th>\n",
       "      <th>gate_id</th>\n",
       "      <th>user_word</th>\n",
       "      <th>gate_-1</th>\n",
       "      <th>gate_0</th>\n",
       "      <th>gate_1</th>\n",
       "      <th>gate_2</th>\n",
       "      <th>gate_3</th>\n",
       "      <th>gate_4</th>\n",
       "      <th>...</th>\n",
       "      <th>arrival_min</th>\n",
       "      <th>departure_hour</th>\n",
       "      <th>departure_min</th>\n",
       "      <th>average_arrival</th>\n",
       "      <th>std_arrival</th>\n",
       "      <th>average_departure</th>\n",
       "      <th>std_departure</th>\n",
       "      <th>gates_today</th>\n",
       "      <th>gates_avg</th>\n",
       "      <th>gates_std</th>\n",
       "    </tr>\n",
       "  </thead>\n",
       "  <tbody>\n",
       "    <tr>\n",
       "      <th>42644</th>\n",
       "      <td>NaN</td>\n",
       "      <td>2023-01-27 12:37:43</td>\n",
       "      <td>6</td>\n",
       "      <td>y</td>\n",
       "      <td>False</td>\n",
       "      <td>False</td>\n",
       "      <td>False</td>\n",
       "      <td>False</td>\n",
       "      <td>False</td>\n",
       "      <td>False</td>\n",
       "      <td>...</td>\n",
       "      <td>37</td>\n",
       "      <td>12</td>\n",
       "      <td>37</td>\n",
       "      <td>778</td>\n",
       "      <td>121</td>\n",
       "      <td>1094</td>\n",
       "      <td>128</td>\n",
       "      <td>3.0</td>\n",
       "      <td>10.684211</td>\n",
       "      <td>2.619691</td>\n",
       "    </tr>\n",
       "    <tr>\n",
       "      <th>42645</th>\n",
       "      <td>NaN</td>\n",
       "      <td>2023-01-27 12:37:44</td>\n",
       "      <td>6</td>\n",
       "      <td>y</td>\n",
       "      <td>False</td>\n",
       "      <td>False</td>\n",
       "      <td>False</td>\n",
       "      <td>False</td>\n",
       "      <td>False</td>\n",
       "      <td>False</td>\n",
       "      <td>...</td>\n",
       "      <td>37</td>\n",
       "      <td>12</td>\n",
       "      <td>37</td>\n",
       "      <td>778</td>\n",
       "      <td>121</td>\n",
       "      <td>1094</td>\n",
       "      <td>128</td>\n",
       "      <td>3.0</td>\n",
       "      <td>10.684211</td>\n",
       "      <td>2.619691</td>\n",
       "    </tr>\n",
       "    <tr>\n",
       "      <th>42646</th>\n",
       "      <td>NaN</td>\n",
       "      <td>2023-01-27 12:37:50</td>\n",
       "      <td>1</td>\n",
       "      <td>y</td>\n",
       "      <td>False</td>\n",
       "      <td>False</td>\n",
       "      <td>True</td>\n",
       "      <td>False</td>\n",
       "      <td>False</td>\n",
       "      <td>False</td>\n",
       "      <td>...</td>\n",
       "      <td>37</td>\n",
       "      <td>12</td>\n",
       "      <td>37</td>\n",
       "      <td>778</td>\n",
       "      <td>121</td>\n",
       "      <td>1094</td>\n",
       "      <td>128</td>\n",
       "      <td>3.0</td>\n",
       "      <td>10.684211</td>\n",
       "      <td>2.619691</td>\n",
       "    </tr>\n",
       "    <tr>\n",
       "      <th>42997</th>\n",
       "      <td>NaN</td>\n",
       "      <td>2023-01-30 12:51:08</td>\n",
       "      <td>7</td>\n",
       "      <td>y</td>\n",
       "      <td>False</td>\n",
       "      <td>False</td>\n",
       "      <td>False</td>\n",
       "      <td>False</td>\n",
       "      <td>False</td>\n",
       "      <td>False</td>\n",
       "      <td>...</td>\n",
       "      <td>51</td>\n",
       "      <td>18</td>\n",
       "      <td>24</td>\n",
       "      <td>778</td>\n",
       "      <td>121</td>\n",
       "      <td>1094</td>\n",
       "      <td>128</td>\n",
       "      <td>9.0</td>\n",
       "      <td>10.684211</td>\n",
       "      <td>2.619691</td>\n",
       "    </tr>\n",
       "    <tr>\n",
       "      <th>42998</th>\n",
       "      <td>NaN</td>\n",
       "      <td>2023-01-30 12:51:57</td>\n",
       "      <td>3</td>\n",
       "      <td>y</td>\n",
       "      <td>False</td>\n",
       "      <td>False</td>\n",
       "      <td>False</td>\n",
       "      <td>False</td>\n",
       "      <td>True</td>\n",
       "      <td>False</td>\n",
       "      <td>...</td>\n",
       "      <td>51</td>\n",
       "      <td>18</td>\n",
       "      <td>24</td>\n",
       "      <td>778</td>\n",
       "      <td>121</td>\n",
       "      <td>1094</td>\n",
       "      <td>128</td>\n",
       "      <td>9.0</td>\n",
       "      <td>10.684211</td>\n",
       "      <td>2.619691</td>\n",
       "    </tr>\n",
       "  </tbody>\n",
       "</table>\n",
       "<p>5 rows × 82 columns</p>\n",
       "</div>"
      ],
      "text/plain": [
       "       user_id                  ts  gate_id user_word  gate_-1  gate_0  \\\n",
       "42644      NaN 2023-01-27 12:37:43        6         y    False   False   \n",
       "42645      NaN 2023-01-27 12:37:44        6         y    False   False   \n",
       "42646      NaN 2023-01-27 12:37:50        1         y    False   False   \n",
       "42997      NaN 2023-01-30 12:51:08        7         y    False   False   \n",
       "42998      NaN 2023-01-30 12:51:57        3         y    False   False   \n",
       "\n",
       "       gate_1  gate_2  gate_3  gate_4  ...  arrival_min  departure_hour  \\\n",
       "42644   False   False   False   False  ...           37              12   \n",
       "42645   False   False   False   False  ...           37              12   \n",
       "42646    True   False   False   False  ...           37              12   \n",
       "42997   False   False   False   False  ...           51              18   \n",
       "42998   False   False    True   False  ...           51              18   \n",
       "\n",
       "       departure_min  average_arrival  std_arrival  average_departure  \\\n",
       "42644             37              778          121               1094   \n",
       "42645             37              778          121               1094   \n",
       "42646             37              778          121               1094   \n",
       "42997             24              778          121               1094   \n",
       "42998             24              778          121               1094   \n",
       "\n",
       "       std_departure  gates_today  gates_avg  gates_std  \n",
       "42644            128          3.0  10.684211   2.619691  \n",
       "42645            128          3.0  10.684211   2.619691  \n",
       "42646            128          3.0  10.684211   2.619691  \n",
       "42997            128          9.0  10.684211   2.619691  \n",
       "42998            128          9.0  10.684211   2.619691  \n",
       "\n",
       "[5 rows x 82 columns]"
      ]
     },
     "execution_count": 333,
     "metadata": {},
     "output_type": "execute_result"
    }
   ],
   "source": [
    "# y - это какой-то подозрительный типок\n",
    "\n",
    "only_y = test_df[test_df[\"user_word\"] == \"y\"]\n",
    "print(only_y.shape)\n",
    "\n",
    "only_y.head()"
   ]
  },
  {
   "cell_type": "code",
   "execution_count": null,
   "id": "109fd586",
   "metadata": {},
   "outputs": [
    {
     "data": {
      "text/plain": [
       "(0.14695409949740407, 0.31044394261471486)"
      ]
     },
     "execution_count": 334,
     "metadata": {},
     "output_type": "execute_result"
    }
   ],
   "source": [
    "# Первое появляение в коцне января. Вероятно, что это новенький\n",
    "# Попробуем посмотреть, сколько у него и каких предсказаний\n",
    "\n",
    "\n",
    "scaler_X = StandardScaler()\n",
    "only_y_cutted = only_y.drop([\"user_word\", \"user_id\", \"ts\"], axis=1)\n",
    "only_y_scaled = pd.DataFrame(scaler_X.fit_transform(only_y_cutted), columns=only_y_cutted.columns)\n",
    "predicts = pd.DataFrame(clf.predict_proba(only_y_scaled))\n",
    "predicts.mean() > 0.1\n",
    "#47 и 6\n",
    "\n",
    "predicts.mean()[6], predicts.mean()[47]"
   ]
  },
  {
   "cell_type": "code",
   "execution_count": null,
   "id": "602d03f0",
   "metadata": {},
   "outputs": [
    {
     "data": {
      "image/png": "[encoded data removed]",
      "text/plain": [
       "<Figure size 1500x1500 with 4 Axes>"
      ]
     },
     "metadata": {},
     "output_type": "display_data"
    }
   ],
   "source": [
    "# На 6 явно f1 и х больше похожи, чем y\n",
    "fig, axes = plt.subplots(2, 2, figsize=(15, 15))\n",
    "\n",
    "\n",
    "sns.histplot(data=test_df[test_df[\"user_word\"] == \"y\"], x=\"ts\", ax=axes[0][0])\n",
    "axes[0][0].set_title(\"y\")\n",
    "axes[0][0].xaxis.set_major_locator(plt.MaxNLocator(4))\n",
    "\n",
    "sns.histplot(data=test_df[test_df[\"user_word\"] == \"f1\"], x=\"ts\", ax=axes[0][1])\n",
    "axes[0][1].set_title(\"f1\")\n",
    "axes[0][1].xaxis.set_major_locator(plt.MaxNLocator(4))\n",
    "\n",
    "sns.histplot(data=test_df[test_df[\"user_word\"] == \"x\"], x=\"ts\", ax=axes[1][0])\n",
    "axes[1][0].set_title(\"x\")\n",
    "axes[1][0].xaxis.set_major_locator(plt.MaxNLocator(4))\n",
    "\n",
    "sns.histplot(data=train_df[train_df[\"user_id\"] == 6], x=\"ts\", ax=axes[1][1])\n",
    "axes[1][1].set_title(\"user_id == 6\")\n",
    "axes[1][1].xaxis.set_major_locator(plt.MaxNLocator(4))\n",
    "\n",
    "\n",
    "plt.show()\n"
   ]
  },
  {
   "cell_type": "code",
   "execution_count": null,
   "id": "331e1a1d",
   "metadata": {},
   "outputs": [
    {
     "name": "stdout",
     "output_type": "stream",
     "text": [
      "(1341, 82)\n"
     ]
    },
    {
     "data": {
      "image/png": "[encoded data removed]",
      "text/plain": [
       "<Figure size 1500x500 with 2 Axes>"
      ]
     },
     "metadata": {},
     "output_type": "display_data"
    }
   ],
   "source": [
    "# Посмотрим на 47ой\n",
    "fig, axes = plt.subplots(1, 2, figsize=(15, 5))\n",
    "\n",
    "\n",
    "sns.histplot(data=test_df[test_df[\"user_word\"] == \"y\"], x=\"ts\", ax=axes[0])\n",
    "axes[0].set_title(\"y\")\n",
    "axes[0].xaxis.set_major_locator(plt.MaxNLocator(4))\n",
    "\n",
    "sns.histplot(data=train_df[train_df[\"user_id\"] == 47], x=\"ts\", ax=axes[1])\n",
    "axes[1].set_title(\"user_id == 47\")\n",
    "axes[1].xaxis.set_major_locator(plt.MaxNLocator(4))\n",
    "\n",
    "print(train_df[train_df[\"user_id\"] == 47].shape)\n",
    "plt.show()\n",
    "\n",
    "#Похоже, что 47ой вовсе уволился и у него не случайно нет пары.\n",
    "#Тогда предположим, что y = -999"
   ]
  },
  {
   "cell_type": "markdown",
   "id": "d028c962",
   "metadata": {},
   "source": [
    "#### Фиксим значения и сохраняем их"
   ]
  },
  {
   "cell_type": "code",
   "execution_count": null,
   "id": "439e4849",
   "metadata": {},
   "outputs": [],
   "source": [
    "df_fix = pd.read_csv(\"answer.csv\")"
   ]
  },
  {
   "cell_type": "code",
   "execution_count": null,
   "id": "cec16286",
   "metadata": {},
   "outputs": [],
   "source": [
    "df_fix.loc[14, \"preds\"] = 36\n",
    "df_fix.loc[33, \"preds\"] = -999\n",
    "\n",
    "df_fix = df_fix.groupby(\"user_word\").mean().astype(int)\n",
    "df_fix.to_csv(\"./answer.csv\")"
   ]
  }
 ],
 "metadata": {
  "kernelspec": {
   "display_name": "Python 3 (ipykernel)",
   "language": "python",
   "name": "python3"
  },
  "language_info": {
   "codemirror_mode": {
    "name": "ipython",
    "version": 3
   },
   "file_extension": ".py",
   "mimetype": "text/x-python",
   "name": "python",
   "nbconvert_exporter": "python",
   "pygments_lexer": "ipython3",
   "version": "3.12.4"
  }
 },
 "nbformat": 4,
 "nbformat_minor": 5
}
